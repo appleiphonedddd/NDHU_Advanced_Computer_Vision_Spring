{
 "cells": [
  {
   "cell_type": "markdown",
   "metadata": {},
   "source": [
    "## Practice : Object Segmentation\n",
    "1. Input an image from 'https://ultralytics.com/images/bus.jpg'.\n",
    "2. Use YOLOv8 to perform segmentation.\n",
    "3. For each segment, open a window to show the contour.\n",
    "4. For each segment, fill out the segment contour.\n",
    "5. For each segment, count number of pixels inside each segment, print it out on the upper-left corner.\n",
    "6. Show all the segment window.\n",
    "7. Upload your Jupyter code file (*.ipynb)"
   ]
  },
  {
   "cell_type": "code",
   "execution_count": 1,
   "metadata": {},
   "outputs": [],
   "source": [
    "import cv2\n",
    "import numpy as np\n",
    "from ultralytics import YOLO"
   ]
  },
  {
   "cell_type": "code",
   "execution_count": 2,
   "metadata": {},
   "outputs": [],
   "source": [
    "model = YOLO('yolov8n-seg.pt')"
   ]
  },
  {
   "cell_type": "code",
   "execution_count": 3,
   "metadata": {},
   "outputs": [
    {
     "name": "stdout",
     "output_type": "stream",
     "text": [
      "\n",
      "Downloading https://ultralytics.com/images/bus.jpg to 'bus.jpg'...\n"
     ]
    },
    {
     "name": "stderr",
     "output_type": "stream",
     "text": [
      "100%|██████████| 476k/476k [00:00<00:00, 3.50MB/s]\n"
     ]
    },
    {
     "name": "stdout",
     "output_type": "stream",
     "text": [
      "image 1/1 /home/infor/CS/Code/NDHU_Computer-Vision_Spring/Practice/0523/bus.jpg: 640x480 4 persons, 1 bus, 1 skateboard, 92.1ms\n",
      "Speed: 4.3ms preprocess, 92.1ms inference, 1222.6ms postprocess per image at shape (1, 3, 640, 480)\n",
      "Results saved to \u001b[1mruns/segment/predict\u001b[0m\n"
     ]
    }
   ],
   "source": [
    "results = model.predict('https://ultralytics.com/images/bus.jpg', save=True)"
   ]
  },
  {
   "cell_type": "code",
   "execution_count": 4,
   "metadata": {},
   "outputs": [
    {
     "name": "stdout",
     "output_type": "stream",
     "text": [
      "1080 810\n",
      "mask 0\n",
      "mask 1\n",
      "mask 2\n",
      "mask 3\n",
      "mask 4\n",
      "mask 5\n"
     ]
    }
   ],
   "source": [
    "# Extracting the necessary data from the results\n",
    "boxes = results[0].boxes.xyxy.tolist()\n",
    "classes = results[0].boxes.cls.tolist()\n",
    "names = results[0].names\n",
    "confidences = results[0].boxes.conf.tolist()\n",
    "masks = results[0].masks\n",
    "h, w = results[0].orig_shape\n",
    "print(h, w)\n",
    "\n",
    "# Iterate through the results and process each mask\n",
    "for i, tup in enumerate(zip(boxes, classes, confidences, masks)):      \n",
    "    box, cls, conf, mask = tup\n",
    "    print(f\"mask {i}\")\n",
    "\n",
    "    # Create blank images to draw the mask on\n",
    "    image = np.zeros((h, w, 3), dtype=np.uint8)\n",
    "    mask_image = np.zeros((h, w), dtype=np.uint8)\n",
    "    \n",
    "    # Convert the mask points to an integer numpy array and reshape for fillPoly\n",
    "    mask_points = mask.xy[0].astype(np.int32).reshape((-1, 1, 2))\n",
    "    \n",
    "    # Fill the polygon to create the mask\n",
    "    cv2.fillPoly(mask_image, [mask_points], 255)\n",
    "    cv2.fillPoly(image, [mask_points], (0, 128, 0))\n",
    "    \n",
    "    # Count number of pixels inside the segment\n",
    "    pixel_count = np.sum(mask_image == 255)\n",
    "    \n",
    "    # Print the pixel count on the upper-left corner\n",
    "    cv2.putText(image, f'Pixels: {pixel_count}', (10, 30), cv2.FONT_HERSHEY_SIMPLEX, 1, (255, 255, 255), 2, cv2.LINE_AA)\n",
    "    \n",
    "    cv2.imshow('YOLO V8 Segmentation:' + str(i), image)\n",
    "\n",
    "    # Dear TA, If your PC cant handle the amount of windows, please cancel the cv2.imshow and uncomment the line below\n",
    "    cv2.imwrite(f\"mask_{i}.png\", image)\n",
    "\n",
    "cv2.waitKey()\n",
    "cv2.destroyAllWindows()"
   ]
  }
 ],
 "metadata": {
  "kernelspec": {
   "display_name": "computervision",
   "language": "python",
   "name": "python3"
  },
  "language_info": {
   "codemirror_mode": {
    "name": "ipython",
    "version": 3
   },
   "file_extension": ".py",
   "mimetype": "text/x-python",
   "name": "python",
   "nbconvert_exporter": "python",
   "pygments_lexer": "ipython3",
   "version": "3.9.19"
  }
 },
 "nbformat": 4,
 "nbformat_minor": 2
}
