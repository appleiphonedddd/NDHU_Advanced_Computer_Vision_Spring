{
 "cells": [
  {
   "cell_type": "markdown",
   "metadata": {},
   "source": [
    "## Practice : Object Segmentation\n",
    "1. Input an image from 'https://ultralytics.com/images/bus.jpg'.\n",
    "2. Use YOLOv8 to perform segmentation.\n",
    "3. For each segment, open a window to show the contour.\n",
    "4. For each segment, fill out the segment contour.\n",
    "5. For each segment, count number of pixels inside each segment, print it out on the upper-left corner.\n",
    "6. Show all the segment window.\n",
    "7. Upload your Jupyter code file (*.ipynb)"
   ]
  },
  {
   "cell_type": "code",
   "execution_count": 30,
   "metadata": {},
   "outputs": [],
   "source": [
    "import cv2\n",
    "import numpy as np\n",
    "from ultralytics import YOLO\n",
    "import matplotlib.pyplot as plt"
   ]
  },
  {
   "cell_type": "code",
   "execution_count": 31,
   "metadata": {},
   "outputs": [],
   "source": [
    "model = YOLO('yolov8n-seg.pt')"
   ]
  },
  {
   "cell_type": "code",
   "execution_count": 32,
   "metadata": {},
   "outputs": [
    {
     "name": "stdout",
     "output_type": "stream",
     "text": [
      "\n",
      "0: 640x480 4 persons, 1 bus, 1 skateboard, 21.1ms\n",
      "Speed: 3.5ms preprocess, 21.1ms inference, 2.2ms postprocess per image at shape (1, 3, 640, 480)\n",
      "1080 810\n",
      "Segment 0\n"
     ]
    }
   ],
   "source": [
    "img = cv2.imread('bus.jpg')\n",
    "results = model.predict(img)\n",
    "\n",
    "boxes = results[0].boxes.xyxy.tolist()\n",
    "classes = results[0].boxes.cls.tolist()\n",
    "names = results[0].names\n",
    "confidences = results[0].boxes.conf.tolist()\n",
    "masks = results[0].masks\n",
    "h, w = results[0].orig_shape\n",
    "print(h, w)\n",
    "\n",
    "# Iterate through each detected object's box, class, confidence, and mask\n",
    "for i, (box, cls, conf, mask) in enumerate(zip(boxes, classes, confidences, masks)):\n",
    "    print(f\"Segment {i}\")\n",
    "    segment_image = np.zeros((h, w), dtype=np.uint8)\n",
    "    \n",
    "    # Fill the mask\n",
    "    cv2.fillPoly(segment_image, pts=[np.array(mask.xy[0], dtype=np.int32)], color=(255))\n",
    "    \n",
    "    # Count the number of pixels inside the segment\n",
    "    pixel_count = cv2.countNonZero(segment_image)\n",
    "    \n",
    "    # Convert mask to BGR image for displaying the count in color\n",
    "    segment_image_bgr = cv2.cvtColor(segment_image, cv2.COLOR_GRAY2BGR)\n",
    "    \n",
    "    # Put pixel count text on the upper-left corner\n",
    "    cv2.putText(segment_image_bgr, f'Pixels: {pixel_count}', (10, 30),\n",
    "                cv2.FONT_HERSHEY_SIMPLEX, 1, (0, 255, 0), 2, cv2.LINE_AA)\n",
    "    \n",
    "    # Show the segment with contour filled and pixel count displayed\n",
    "    cv2.imshow(f\"Segment {i}\", segment_image_bgr)\n",
    "\n",
    "    if cv2.waitKey(0) & 0xFF == ord('q'):\n",
    "        break\n",
    "\n",
    "cv2.waitKey(0)\n",
    "cv2.destroyAllWindows()"
   ]
  },
  {
   "cell_type": "code",
   "execution_count": null,
   "metadata": {},
   "outputs": [],
   "source": [
    "model = YOLO('yolov8n-seg.pt')\n",
    "\n",
    "results = model.predict('https://ultralytics.com/images/bus.jpg', save=True)\n",
    "\n",
    "boxes = results[0].boxes.xyxy.tolist()\n",
    "classes = results[0].boxes.cls.tolist()\n",
    "names = results[0].names\n",
    "confidences = results[0].boxes.conf.tolist()\n",
    "masks = results[0].masks\n",
    "h, w = results[0].orig_shape\n",
    "print(h, w)\n",
    "\n",
    "for i, tup in enumerate(zip(boxes, classes, confidences, masks)):      \n",
    "    box, cls, conf, mask = tup\n",
    "    print(f\"mask {i}\")\n",
    "\n",
    "    image = np.zeros((h, w, 3), dtype=np.uint8)\n",
    "    \n",
    "    for point in mask.xy[0]:\n",
    "        cv2.circle(image, (int(point[0]), int(point[1])), radius=2, color=(0, 128, 0), thickness=-1)\n",
    "    \n",
    "    cv2.imshow('YOLO V8 Segmentation:'+str(i), image)\n",
    "    \n",
    "cv2.waitKey()\n",
    "cv2.destroyAllWindows()"
   ]
  }
 ],
 "metadata": {
  "kernelspec": {
   "display_name": "computervision",
   "language": "python",
   "name": "python3"
  },
  "language_info": {
   "codemirror_mode": {
    "name": "ipython",
    "version": 3
   },
   "file_extension": ".py",
   "mimetype": "text/x-python",
   "name": "python",
   "nbconvert_exporter": "python",
   "pygments_lexer": "ipython3",
   "version": "3.9.18"
  }
 },
 "nbformat": 4,
 "nbformat_minor": 2
}
