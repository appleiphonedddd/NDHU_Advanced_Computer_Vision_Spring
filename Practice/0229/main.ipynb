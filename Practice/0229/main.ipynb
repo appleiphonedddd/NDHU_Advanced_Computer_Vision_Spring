{
 "cells": [
  {
   "cell_type": "markdown",
   "metadata": {},
   "source": [
    "## Practice\n",
    "\n",
    "1. Read an image from file.\n",
    "2. Draw two lines.\n",
    "3. Draw a circle.\n",
    "4. Draw a rectangle.\n",
    "5. Draw text (your student id).\n",
    "6. Show the image.\n",
    "7. Write the image to file.\n"
   ]
  },
  {
   "cell_type": "code",
   "execution_count": 1,
   "metadata": {},
   "outputs": [],
   "source": [
    "import cv2\n",
    "import numpy"
   ]
  },
  {
   "cell_type": "code",
   "execution_count": 17,
   "metadata": {},
   "outputs": [
    {
     "name": "stdout",
     "output_type": "stream",
     "text": [
      "225 225 3\n"
     ]
    }
   ],
   "source": [
    "#1. Read an image from file\n",
    "img = cv2.imread('sakura.jpg')\n",
    "\n",
    "# 2. Draw two lines\n",
    "cv2.line(img, pt1=(50,50), pt2=(200,100), color=(255,0,0), thickness=10)\n",
    "cv2.line(img, pt1=(300,100), pt2=(100,100), color=(255,0,0), thickness=10)\n",
    "\n",
    "# 3. Draw a circle\n",
    "cv2.circle(img,(90, 190), 30, (0, 255, 255), 3)\n",
    "\n",
    "# 4. Draw a rectangle\n",
    "red_color = (0, 0, 255)\n",
    "cv2.rectangle(img, (100, 100), (200, 200), red_color, 3, cv2.LINE_AA)\n",
    "\n",
    "# 5. Draw text (your student id)\n",
    "height, width, channels = img.shape\n",
    "print(height, width, channels)\n",
    "cv2.putText(img, \"611221201\" , (0, height), cv2.FONT_HERSHEY_SIMPLEX, 1, (0,0,0), 2)\n",
    "\n",
    "\n",
    "\"\"\"\n",
    "6. Show the image\n",
    "7. Write the image to file\n",
    "8. Upload your image file\n",
    "\"\"\"\n",
    "cv2.imwrite('611221201.png', img)\n",
    "cv2.waitKey(0)\n",
    "cv2.destroyAllWindows()"
   ]
  }
 ],
 "metadata": {
  "kernelspec": {
   "display_name": "CV",
   "language": "python",
   "name": "python3"
  },
  "language_info": {
   "codemirror_mode": {
    "name": "ipython",
    "version": 3
   },
   "file_extension": ".py",
   "mimetype": "text/x-python",
   "name": "python",
   "nbconvert_exporter": "python",
   "pygments_lexer": "ipython3",
   "version": "3.9.21"
  }
 },
 "nbformat": 4,
 "nbformat_minor": 2
}
