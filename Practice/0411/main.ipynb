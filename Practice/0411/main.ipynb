{
 "cells": [
  {
   "cell_type": "code",
   "execution_count": 1,
   "metadata": {},
   "outputs": [],
   "source": [
    "import cv2\n",
    "import numpy as np"
   ]
  },
  {
   "cell_type": "code",
   "execution_count": 2,
   "metadata": {},
   "outputs": [],
   "source": [
    "def thresholding_callback(x):\n",
    "    pass"
   ]
  },
  {
   "cell_type": "code",
   "execution_count": 3,
   "metadata": {},
   "outputs": [],
   "source": [
    "cap = cv2.VideoCapture('WiiPlay.mp4')\n",
    "\n",
    "if not cap.isOpened():\n",
    "    raise IOError(\"Cannot open the video file\")"
   ]
  },
  {
   "cell_type": "code",
   "execution_count": 4,
   "metadata": {},
   "outputs": [],
   "source": [
    "frame_seq = 360\n",
    "\n",
    "cap.set(cv2.CAP_PROP_POS_FRAMES, frame_seq)\n",
    "ret, frame = cap.read()\n",
    "if not ret:\n",
    "    print(\"Failed to grab frame.\")\n",
    "    cap.release()\n",
    "    exit()"
   ]
  },
  {
   "cell_type": "code",
   "execution_count": 5,
   "metadata": {},
   "outputs": [],
   "source": [
    "cv2.imwrite('611221201.png', frame)\n",
    "cv2.waitKey(0)\n",
    "cv2.destroyAllWindows()\n",
    "\n",
    "\n",
    "cap.release()"
   ]
  },
  {
   "cell_type": "code",
   "execution_count": 6,
   "metadata": {},
   "outputs": [
    {
     "name": "stderr",
     "output_type": "stream",
     "text": [
      "qt.qpa.plugin: Could not find the Qt platform plugin \"wayland\" in \"/home/infor/miniconda3/envs/computervision/lib/python3.9/site-packages/cv2/qt/plugins\"\n"
     ]
    }
   ],
   "source": [
    "hsv_image = cv2.cvtColor(frame, cv2.COLOR_BGR2HSV)\n",
    "\n",
    "cv2.imshow('HSV Image', hsv_image)\n",
    "cv2.waitKey(0)\n",
    "cv2.destroyAllWindows()"
   ]
  },
  {
   "cell_type": "code",
   "execution_count": 7,
   "metadata": {},
   "outputs": [],
   "source": [
    "\n",
    "cv2.namedWindow('HSV Image')\n",
    "\n",
    "# Create trackbars for H and S values\n",
    "cv2.createTrackbar('H', 'HSV Image', 0, 179, thresholding_callback)\n",
    "cv2.createTrackbar('S', 'HSV Image', 0, 255, thresholding_callback)\n",
    "\n",
    "while True:\n",
    "    # Get current positions of trackbars\n",
    "    h_value = cv2.getTrackbarPos('H', 'HSV Image')\n",
    "    s_value = cv2.getTrackbarPos('S', 'HSV Image')\n",
    "    \n",
    "    # Modify the HSV image based on trackbar values\n",
    "    hsv_modified = np.copy(hsv_image)\n",
    "    hsv_modified[:,:,0] += h_value\n",
    "    hsv_modified[:,:,1] += s_value\n",
    "    \n",
    "    # Convert modified HSV image back to BGR\n",
    "    modified_frame = cv2.cvtColor(hsv_modified, cv2.COLOR_HSV2BGR)\n",
    "\n",
    "    cv2.imshow('HSV Image', modified_frame)\n",
    "    \n",
    "\n",
    "    if cv2.waitKey(1) & 0xFF == ord('q'):\n",
    "        break\n",
    "\n",
    "\n",
    "cv2.destroyAllWindows()"
   ]
  },
  {
   "cell_type": "code",
   "execution_count": 8,
   "metadata": {},
   "outputs": [],
   "source": [
    "# Create a window\n",
    "cv2.namedWindow('HSV Thresholding')\n",
    "\n",
    "# Create trackbars for color change\n",
    "cv2.createTrackbar('Low Hue', 'HSV Thresholding', 0, 179, thresholding_callback)\n",
    "cv2.createTrackbar('High Hue', 'HSV Thresholding', 0, 179, thresholding_callback)\n",
    "\n",
    "while True:\n",
    "    # Get current positions of the trackbars\n",
    "    low_hue = cv2.getTrackbarPos('Low Hue', 'HSV Thresholding')\n",
    "    high_hue = cv2.getTrackbarPos('High Hue', 'HSV Thresholding')\n",
    "\n",
    "    # Threshold the HSV image to get only blue colors\n",
    "    mask = cv2.inRange(hsv_image, (low_hue, 50, 50), (high_hue, 255, 255))\n",
    "\n",
    "    # Bitwise-AND mask and original image\n",
    "    result = cv2.bitwise_and(frame, frame, mask=mask)\n",
    "\n",
    "    # Display the resulting frame\n",
    "    cv2.imshow('HSV Thresholding', result)\n",
    "\n",
    "    key = cv2.waitKey(1) & 0xFF\n",
    "    if key == 27:  # ESC key\n",
    "        break\n",
    "\n",
    "cap.release()\n",
    "cv2.destroyAllWindows()"
   ]
  }
 ],
 "metadata": {
  "kernelspec": {
   "display_name": "computervision",
   "language": "python",
   "name": "python3"
  },
  "language_info": {
   "codemirror_mode": {
    "name": "ipython",
    "version": 3
   },
   "file_extension": ".py",
   "mimetype": "text/x-python",
   "name": "python",
   "nbconvert_exporter": "python",
   "pygments_lexer": "ipython3",
   "version": "3.9.18"
  }
 },
 "nbformat": 4,
 "nbformat_minor": 2
}
