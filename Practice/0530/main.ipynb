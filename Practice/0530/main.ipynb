{
 "cells": [
  {
   "cell_type": "markdown",
   "metadata": {},
   "source": [
    "## Practice\n",
    "1. Input images from webcam.\n",
    "2. Use cv2.CascadeClassifier() to detect your face.\n",
    "3. Perform <b> image vignetting </b> centered on detected face.\n",
    "4. Show your output images.\n",
    "5. Upload your Jupyter code file (*.ipynb)"
   ]
  },
  {
   "cell_type": "code",
   "execution_count": 1,
   "metadata": {},
   "outputs": [],
   "source": [
    "import cv2\n",
    "import numpy as np"
   ]
  },
  {
   "cell_type": "code",
   "execution_count": 2,
   "metadata": {},
   "outputs": [],
   "source": [
    "def apply_vignette(frame, faces):\n",
    "    # Check if any faces are detected in the frame\n",
    "    if len(faces) > 0:\n",
    "        # Take the first detected face\n",
    "        x, y, w, h = faces[0]\n",
    "        center_x, center_y = x + w // 2, y + h // 2\n",
    "\n",
    "        # Get the dimensions of the frame\n",
    "        rows, cols, _ = frame.shape\n",
    "\n",
    "        # Create Gaussian kernels for x and y dimensions\n",
    "        kernel_x = cv2.getGaussianKernel(cols, 200)\n",
    "        kernel_y = cv2.getGaussianKernel(rows, 200)\n",
    "\n",
    "        # Create a 2D Gaussian mask\n",
    "        kernel = kernel_y * kernel_x.T\n",
    "        mask = 255 * kernel / np.linalg.norm(kernel)\n",
    "\n",
    "        # Copy the original frame to apply the vignette effect\n",
    "        vignette = np.copy(frame)\n",
    "\n",
    "        # Apply the vignette effect on each RGB channel\n",
    "        for i in range(3):\n",
    "            vignette[:, :, i] = vignette[:, :, i] * mask\n",
    "\n",
    "        # Return the frame with the vignette effect applied\n",
    "        return vignette\n",
    "    \n",
    "    else:\n",
    "        # Return the original frame if no faces are detected\n",
    "        return frame"
   ]
  },
  {
   "cell_type": "code",
   "execution_count": 5,
   "metadata": {},
   "outputs": [],
   "source": [
    "cap = cv2.VideoCapture(0)\n",
    "\n",
    "face_cascade = cv2.CascadeClassifier(cv2.data.haarcascades + 'haarcascade_frontalface_default.xml')\n",
    "\n",
    "while True:\n",
    "    ret, frame = cap.read()\n",
    "    if not ret:\n",
    "        print(\"Failed to capture image\")\n",
    "        break\n",
    "    \n",
    "    # Convert to grayscale for face detection\n",
    "    gray = cv2.cvtColor(frame, cv2.COLOR_BGR2GRAY)\n",
    "    faces = face_cascade.detectMultiScale(gray, 1.1, 4)\n",
    "    \n",
    "    # Apply vignetting effect centered on the detected face\n",
    "    vignette_frame = apply_vignette(frame, faces)\n",
    "    \n",
    "    # Display the frame with the vignetting effect\n",
    "    cv2.imshow('Vignette', vignette_frame)\n",
    "    \n",
    "    # Break the loop if 'q' is pressed\n",
    "    if cv2.waitKey(1) & 0xFF == ord('q'):\n",
    "        break\n",
    "\n",
    "cap.release()\n",
    "cv2.destroyAllWindows()"
   ]
  }
 ],
 "metadata": {
  "kernelspec": {
   "display_name": "computervision",
   "language": "python",
   "name": "python3"
  },
  "language_info": {
   "codemirror_mode": {
    "name": "ipython",
    "version": 3
   },
   "file_extension": ".py",
   "mimetype": "text/x-python",
   "name": "python",
   "nbconvert_exporter": "python",
   "pygments_lexer": "ipython3",
   "version": "3.9.18"
  }
 },
 "nbformat": 4,
 "nbformat_minor": 2
}
