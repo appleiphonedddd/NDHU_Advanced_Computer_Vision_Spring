{
 "cells": [
  {
   "cell_type": "markdown",
   "metadata": {},
   "source": [
    "## Practice\n",
    "\n",
    "1. Input continuous images from 'car.mp4'.\n",
    "2. For each frame, detect every car using YOLOv8 trained data 'license_plate_detector.pt'. (mark with red rectangles)\n",
    "3. For each car, detect a licence plate using 'yolov8n.pt'. (mark with blue rectangle)\n",
    "4. For each licence plate, OCR using Tesseract.\n",
    "5. Print the recognized licence plate number above each detected licence plate. (putText() in green color).\n",
    "6. Use whatever you learned this semester to improve the result\n",
    "7. Upload your .ipynb file."
   ]
  },
  {
   "cell_type": "code",
   "execution_count": 1,
   "metadata": {},
   "outputs": [],
   "source": [
    "from ultralytics import YOLO\n",
    "import cv2\n",
    "import pytesseract\n",
    "import numpy as np"
   ]
  },
  {
   "cell_type": "code",
   "execution_count": 2,
   "metadata": {},
   "outputs": [],
   "source": [
    "# Function to draw bounding boxes and text\n",
    "def draw_annotations(frame, annotations, color):\n",
    "    for (x1, y1, x2, y2, text) in annotations:\n",
    "        cv2.rectangle(frame, (int(x1), int(y1)), (int(x2), int(y2)), color, 2)\n",
    "        if text:\n",
    "            cv2.putText(frame, text, (int(x1), int(y1)-10), cv2.FONT_HERSHEY_SIMPLEX, 0.9, (0, 255, 0), 2)"
   ]
  },
  {
   "cell_type": "code",
   "execution_count": 3,
   "metadata": {},
   "outputs": [],
   "source": [
    "# Specify the Tesseract executable path\n",
    "pytesseract.pytesseract.tesseract_cmd = '/usr/bin/tesseract'\n",
    "\n",
    "# Load models\n",
    "car_detector = YOLO('yolov8n.pt')\n",
    "license_plate_detector = YOLO('license_plate_detector.pt')"
   ]
  },
  {
   "cell_type": "code",
   "execution_count": 4,
   "metadata": {},
   "outputs": [
    {
     "name": "stdout",
     "output_type": "stream",
     "text": [
      "\n"
     ]
    },
    {
     "name": "stderr",
     "output_type": "stream",
     "text": [
      "/home/infor/miniconda3/envs/CV/lib/python3.9/site-packages/torch/cuda/__init__.py:619: UserWarning: Can't initialize NVML\n",
      "  warnings.warn(\"Can't initialize NVML\")\n"
     ]
    },
    {
     "name": "stdout",
     "output_type": "stream",
     "text": [
      "0: 384x640 21 cars, 1 bus, 2 trucks, 121.5ms\n",
      "Speed: 5.9ms preprocess, 121.5ms inference, 1043.4ms postprocess per image at shape (1, 3, 384, 640)\n",
      "\n",
      "0: 384x640 2 license_plates, 78.5ms\n",
      "Speed: 2.9ms preprocess, 78.5ms inference, 0.8ms postprocess per image at shape (1, 3, 384, 640)\n",
      "\n",
      "0: 384x640 21 cars, 1 bus, 2 trucks, 117.7ms\n",
      "Speed: 7.0ms preprocess, 117.7ms inference, 1.1ms postprocess per image at shape (1, 3, 384, 640)\n",
      "\n",
      "0: 384x640 2 license_plates, 88.8ms\n",
      "Speed: 4.9ms preprocess, 88.8ms inference, 0.7ms postprocess per image at shape (1, 3, 384, 640)\n",
      "\n",
      "0: 384x640 22 cars, 1 bus, 2 trucks, 93.2ms\n",
      "Speed: 3.6ms preprocess, 93.2ms inference, 1.1ms postprocess per image at shape (1, 3, 384, 640)\n",
      "\n",
      "0: 384x640 2 license_plates, 88.6ms\n",
      "Speed: 2.6ms preprocess, 88.6ms inference, 1.3ms postprocess per image at shape (1, 3, 384, 640)\n",
      "\n",
      "0: 384x640 21 cars, 1 bus, 2 trucks, 98.3ms\n",
      "Speed: 5.7ms preprocess, 98.3ms inference, 1.4ms postprocess per image at shape (1, 3, 384, 640)\n",
      "\n",
      "0: 384x640 2 license_plates, 82.7ms\n",
      "Speed: 2.6ms preprocess, 82.7ms inference, 0.7ms postprocess per image at shape (1, 3, 384, 640)\n",
      "\n",
      "0: 384x640 22 cars, 1 bus, 2 trucks, 100.3ms\n",
      "Speed: 4.4ms preprocess, 100.3ms inference, 1.0ms postprocess per image at shape (1, 3, 384, 640)\n",
      "\n",
      "0: 384x640 2 license_plates, 81.8ms\n",
      "Speed: 2.6ms preprocess, 81.8ms inference, 0.8ms postprocess per image at shape (1, 3, 384, 640)\n",
      "\n",
      "0: 384x640 25 cars, 1 bus, 2 trucks, 94.6ms\n",
      "Speed: 3.3ms preprocess, 94.6ms inference, 1.2ms postprocess per image at shape (1, 3, 384, 640)\n",
      "\n",
      "0: 384x640 2 license_plates, 72.6ms\n",
      "Speed: 2.5ms preprocess, 72.6ms inference, 1.3ms postprocess per image at shape (1, 3, 384, 640)\n",
      "\n",
      "0: 384x640 23 cars, 1 bus, 1 truck, 88.8ms\n",
      "Speed: 5.6ms preprocess, 88.8ms inference, 1.0ms postprocess per image at shape (1, 3, 384, 640)\n",
      "\n",
      "0: 384x640 2 license_plates, 71.0ms\n",
      "Speed: 2.8ms preprocess, 71.0ms inference, 0.9ms postprocess per image at shape (1, 3, 384, 640)\n",
      "\n",
      "0: 384x640 23 cars, 1 bus, 1 truck, 87.3ms\n",
      "Speed: 5.3ms preprocess, 87.3ms inference, 1.0ms postprocess per image at shape (1, 3, 384, 640)\n",
      "\n",
      "0: 384x640 2 license_plates, 76.2ms\n",
      "Speed: 2.6ms preprocess, 76.2ms inference, 0.8ms postprocess per image at shape (1, 3, 384, 640)\n",
      "\n",
      "0: 384x640 22 cars, 1 bus, 2 trucks, 93.9ms\n",
      "Speed: 3.3ms preprocess, 93.9ms inference, 1.2ms postprocess per image at shape (1, 3, 384, 640)\n",
      "\n",
      "0: 384x640 2 license_plates, 73.2ms\n",
      "Speed: 2.5ms preprocess, 73.2ms inference, 1.1ms postprocess per image at shape (1, 3, 384, 640)\n",
      "\n",
      "0: 384x640 22 cars, 1 bus, 2 trucks, 94.9ms\n",
      "Speed: 4.4ms preprocess, 94.9ms inference, 1.5ms postprocess per image at shape (1, 3, 384, 640)\n",
      "\n",
      "0: 384x640 2 license_plates, 83.0ms\n",
      "Speed: 2.3ms preprocess, 83.0ms inference, 0.7ms postprocess per image at shape (1, 3, 384, 640)\n",
      "\n",
      "0: 384x640 22 cars, 1 bus, 3 trucks, 79.6ms\n",
      "Speed: 3.9ms preprocess, 79.6ms inference, 1.0ms postprocess per image at shape (1, 3, 384, 640)\n",
      "\n",
      "0: 384x640 2 license_plates, 71.1ms\n",
      "Speed: 3.3ms preprocess, 71.1ms inference, 1.2ms postprocess per image at shape (1, 3, 384, 640)\n"
     ]
    }
   ],
   "source": [
    "# Load video\n",
    "cap = cv2.VideoCapture('car.mp4')\n",
    "\n",
    "# Define the list of vehicle class IDs (as per your model's class mapping)\n",
    "vehicles = [2, 3, 5, 7]\n",
    "\n",
    "# Read frames\n",
    "while True:\n",
    "    ret, frame = cap.read()\n",
    "    if not ret:\n",
    "        break\n",
    "\n",
    "    # Detect vehicles\n",
    "    car_detections = car_detector(frame)[0]\n",
    "    car_annotations = []\n",
    "    for detection in car_detections.boxes.data.tolist():\n",
    "        x1, y1, x2, y2, score, class_id = detection\n",
    "        if int(class_id) in vehicles:\n",
    "            car_annotations.append((x1, y1, x2, y2, f'Car: {int(score * 100)}%'))\n",
    "\n",
    "    # Detect license plates\n",
    "    license_plate_detections = license_plate_detector(frame)[0]\n",
    "    license_plate_annotations = []\n",
    "    for license_plate in license_plate_detections.boxes.data.tolist():\n",
    "        x1, y1, x2, y2, score, class_id = license_plate\n",
    "        license_plate_crop = frame[int(y1):int(y2), int(x1): int(x2), :]\n",
    "        license_plate_text = pytesseract.image_to_string(license_plate_crop, config='--psm 8').strip()\n",
    "        license_plate_annotations.append((x1, y1, x2, y2, license_plate_text))\n",
    "\n",
    "    draw_annotations(frame, car_annotations, (0, 0, 255))  # Red rectangles for cars\n",
    "    draw_annotations(frame, license_plate_annotations, (255, 0, 0))  # Blue rectangles for license plates\n",
    "    \n",
    "    frame_resized = cv2.resize(frame, (800, 450))\n",
    "    \n",
    "    cv2.imshow('Frame', frame_resized)\n",
    "\n",
    "    if cv2.waitKey(1) & 0xFF == ord('q'):\n",
    "        break\n",
    "\n",
    "cap.release()\n",
    "cv2.destroyAllWindows()"
   ]
  },
  {
   "cell_type": "markdown",
   "metadata": {},
   "source": [
    "## Reference\n",
    "- [Automatic-Number-Plate-Recognition-YOLOv8](https://github.com/Muhammad-Zeerak-Khan/Automatic-License-Plate-Recognition-using-YOLOv8/tree/main)"
   ]
  }
 ],
 "metadata": {
  "kernelspec": {
   "display_name": "computervision",
   "language": "python",
   "name": "python3"
  },
  "language_info": {
   "codemirror_mode": {
    "name": "ipython",
    "version": 3
   },
   "file_extension": ".py",
   "mimetype": "text/x-python",
   "name": "python",
   "nbconvert_exporter": "python",
   "pygments_lexer": "ipython3",
   "version": "3.9.19"
  }
 },
 "nbformat": 4,
 "nbformat_minor": 2
}
