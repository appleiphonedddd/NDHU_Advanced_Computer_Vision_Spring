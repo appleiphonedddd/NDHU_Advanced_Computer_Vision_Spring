{
 "cells": [
  {
   "cell_type": "markdown",
   "metadata": {},
   "source": [
    "## Practice MediaPipe\n",
    "\n",
    "1. Input continuous BGR images from webcam.\n",
    "2. Use <i>MediaPipe()</i> to detect and track one of your hands.\n",
    "3. Obtain the positions of 21 HandLandmarks.\n",
    "4. Design an algorithm to recognize three hand gestures of Rock, Scissor, Paper.\n",
    "5. Use <i>cv2.putText()</i> to write the type of the recognized hand gesture on the upper left corner.\n",
    "6. Show your output images.\n",
    "7. Upload your Jupyter code file (*.ipynb)"
   ]
  },
  {
   "cell_type": "code",
   "execution_count": 10,
   "metadata": {},
   "outputs": [],
   "source": [
    "import cv2\n",
    "import numpy as np\n",
    "import mediapipe as mp"
   ]
  },
  {
   "cell_type": "code",
   "execution_count": 11,
   "metadata": {},
   "outputs": [],
   "source": [
    "def recognize_gesture(landmarks):\n",
    "    thumb_tip = landmarks[mp_hands.HandLandmark.THUMB_TIP]\n",
    "    index_tip = landmarks[mp_hands.HandLandmark.INDEX_FINGER_TIP]\n",
    "    middle_tip = landmarks[mp_hands.HandLandmark.MIDDLE_FINGER_TIP]\n",
    "    ring_tip = landmarks[mp_hands.HandLandmark.RING_FINGER_TIP]\n",
    "    pinky_tip = landmarks[mp_hands.HandLandmark.PINKY_TIP]\n",
    "\n",
    "    # Calculate distances between tips of fingers and palm base\n",
    "    palm_base = landmarks[mp_hands.HandLandmark.WRIST]\n",
    "    distances = [\n",
    "        np.linalg.norm(np.array([thumb_tip.x - palm_base.x, thumb_tip.y - palm_base.y])),\n",
    "        np.linalg.norm(np.array([index_tip.x - palm_base.x, index_tip.y - palm_base.y])),\n",
    "        np.linalg.norm(np.array([middle_tip.x - palm_base.x, middle_tip.y - palm_base.y])),\n",
    "        np.linalg.norm(np.array([ring_tip.x - palm_base.x, ring_tip.y - palm_base.y])),\n",
    "        np.linalg.norm(np.array([pinky_tip.x - palm_base.x, pinky_tip.y - palm_base.y]))\n",
    "    ]\n",
    "\n",
    "    # Define thresholds for recognizing gestures\n",
    "    if all(d > 0.4 for d in distances):\n",
    "        return \"Paper\"\n",
    "    elif distances[1] > 0.4 and distances[2] > 0.4 and all(d < 0.3 for d in distances[3:]):\n",
    "        return \"Scissors\"\n",
    "    else:\n",
    "        return \"Rock\""
   ]
  },
  {
   "cell_type": "code",
   "execution_count": 12,
   "metadata": {},
   "outputs": [
    {
     "name": "stderr",
     "output_type": "stream",
     "text": [
      "I0000 00:00:1717578982.225146   46605 gl_context_egl.cc:85] Successfully initialized EGL. Major : 1 Minor: 5\n",
      "I0000 00:00:1717578982.226530   47939 gl_context.cc:357] GL version: 3.2 (OpenGL ES 3.2 Mesa 24.0.5-1ubuntu1), renderer: Mesa Intel(R) UHD Graphics 620 (KBL GT2)\n"
     ]
    }
   ],
   "source": [
    "# Initialize MediaPipe Hands model\n",
    "mp_hands = mp.solutions.hands\n",
    "hands = mp_hands.Hands()\n",
    "mp_drawing = mp.solutions.drawing_utils\n",
    "\n",
    "# Open webcam\n",
    "cap = cv2.VideoCapture(0)\n",
    "\n",
    "while cap.isOpened():\n",
    "    ret, frame = cap.read()\n",
    "    if not ret:\n",
    "        continue\n",
    "\n",
    "    # Convert the BGR image to RGB and process it with MediaPipe Hands\n",
    "    results = hands.process(cv2.cvtColor(frame, cv2.COLOR_BGR2RGB))\n",
    "\n",
    "    # Draw hand landmarks and recognize gestures\n",
    "    if results.multi_hand_landmarks:\n",
    "        for hand_landmarks in results.multi_hand_landmarks:\n",
    "            mp_drawing.draw_landmarks(frame, hand_landmarks, mp_hands.HAND_CONNECTIONS)\n",
    "            landmarks = hand_landmarks.landmark\n",
    "            gesture = recognize_gesture(landmarks)\n",
    "            cv2.putText(frame, gesture, (10, 30), cv2.FONT_HERSHEY_SIMPLEX, 1, (255, 0, 0), 2, cv2.LINE_AA)\n",
    "\n",
    "    # Display the image\n",
    "    cv2.imshow('MediaPipe Hands', frame)\n",
    "\n",
    "    if cv2.waitKey(1) & 0xFF == ord('q'):\n",
    "        break\n",
    "\n",
    "hands.close()\n",
    "cap.release()\n",
    "cv2.destroyAllWindows()"
   ]
  }
 ],
 "metadata": {
  "kernelspec": {
   "display_name": "computervision",
   "language": "python",
   "name": "python3"
  },
  "language_info": {
   "codemirror_mode": {
    "name": "ipython",
    "version": 3
   },
   "file_extension": ".py",
   "mimetype": "text/x-python",
   "name": "python",
   "nbconvert_exporter": "python",
   "pygments_lexer": "ipython3",
   "version": "3.9.19"
  }
 },
 "nbformat": 4,
 "nbformat_minor": 2
}
