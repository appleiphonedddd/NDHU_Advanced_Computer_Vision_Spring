{
 "cells": [
  {
   "cell_type": "markdown",
   "metadata": {},
   "source": [
    "###### %%writefile test\n",
    "## Practice (Morphological Filter)\n",
    "1. Input image from gear_tooth.png.\n",
    "2. The objective is to detect missing teeth using a sequence of morphological filters.\n",
    "3. Optional: Design a set of structure elements: <b>gear_body</b>, <b>sampling_ring_spacer</b>, <b>sampling_ring_width</b>, <b>tip_spacing</b>, <b>defect_cue</b>\n",
    "4. Apply morphological filters using the structure elements to generate the figures (e), (f), (g), (h)\n",
    "<br>&nbsp;(e) opening it with structure element <b>gear_body</b> to get rid of the teeth, dilating that with structure element <b>sampling_ring_spacer</b> to bring it out to the base of the teeth, dilating that with the structure element <b>sampling_ring_width</b> to bring the next image out to the tip of the teeth, and subtracting the last two results to get a ring that just fits over the teeth.\n",
    "<br>&nbsp;(f) AND it with the original image to produce an image of just the teeth.\n",
    "<br>&nbsp;(g) (optional) dilating the teeth image with the structure element <b>tip_spacing</b> produces the solid ring image which has spaces in the solid ring wherever there are defects in the teeth.\n",
    "<br>&nbsp;(h) (optional) subtracting it from the sampling ring leaves only the defects, which are dilated by structure element <b>defect_cue</b>.\n",
    "5. (optional) Mark the defected gears using <b>red rectangles</b> on the output images.\n",
    "6. Write a simple report in a separate cell.\n",
    "7. Upload your Jupyter code file (*.ipynb)\n",
    "![gear_tooth_procedure.png](attachment:gear_tooth_procedure.png)"
   ]
  },
  {
   "cell_type": "code",
   "execution_count": 1,
   "metadata": {},
   "outputs": [],
   "source": [
    "import cv2\n",
    "import numpy as np\n",
    "from matplotlib import pyplot as plt"
   ]
  },
  {
   "cell_type": "code",
   "execution_count": 2,
   "metadata": {},
   "outputs": [],
   "source": [
    "img = cv2.imread('gear_tooth.png')\n"
   ]
  },
  {
   "cell_type": "code",
   "execution_count": 3,
   "metadata": {},
   "outputs": [
    {
     "data": {
      "image/png": "[encoded data removed]",
      "text/plain": [
       "<Figure size 640x480 with 3 Axes>"
      ]
     },
     "metadata": {},
     "output_type": "display_data"
    }
   ],
   "source": [
    "retval, img_A = cv2.threshold(img, 225, 255, cv2.THRESH_BINARY)\n",
    "\n",
    "kernel_dot = cv2.getStructuringElement(cv2.MORPH_ELLIPSE,(3,3))\n",
    "kernel_hole = cv2.getStructuringElement(cv2.MORPH_ELLIPSE,(30,30))\n",
    "kernel_hole_e = cv2.erode(kernel_hole, kernel_dot, iterations=1)\n",
    "kernel_hole_ring = kernel_hole - kernel_hole_e\n",
    "plt.subplot(1,3,1)\n",
    "plt.imshow(kernel_hole, cmap = 'gray')\n",
    "plt.subplot(1,3,2)\n",
    "plt.imshow(kernel_hole_e, cmap = 'gray')\n",
    "plt.subplot(1,3,3)\n",
    "plt.imshow(kernel_hole_ring, cmap = 'gray')\n",
    "\n",
    "img_B = cv2.erode(img_A, kernel_hole_ring, iterations=1)\n",
    "img_C = cv2.dilate(img_B, kernel_hole, iterations=1)\n",
    "img_D = cv2.bitwise_or(img, img_C)\n",
    "\n",
    "cv2.imshow('(a)', img_A)\n",
    "cv2.imshow('(b)', img_B)\n",
    "cv2.imshow('(c)', img_C)\n",
    "cv2.imshow('(d)', img_D)\n",
    "\n",
    "cv2.waitKey()\n",
    "cv2.destroyAllWindows()\n"
   ]
  },
  {
   "cell_type": "code",
   "execution_count": 5,
   "metadata": {},
   "outputs": [],
   "source": [
    "scale = cv2.getStructuringElement(cv2.MORPH_ELLIPSE,(5,5))\n",
    "\n",
    "img_dilate = cv2.dilate(img_D, scale, iterations=1)\n",
    "img_dilate2 = cv2.dilate(img_dilate, scale, iterations=1)\n",
    "img_dilate3 = cv2.dilate(img_dilate2, scale, iterations=1)\n",
    "gear_images = img_dilate2 - img_D\n",
    "gear_images = cv2.morphologyEx(gear_images, cv2.MORPH_CLOSE, scale)\n",
    "Result = cv2.bitwise_and(gear_images, img_D)\n",
    "\n",
    "cv2.imshow('Input', img_D)\n",
    "cv2.imshow('B1', img_dilate)\n",
    "cv2.imshow('B2', gear_images)\n",
    "cv2.imshow('B3', Result)\n",
    "\n",
    "cv2.waitKey()\n",
    "cv2.destroyAllWindows()"
   ]
  },
  {
   "cell_type": "code",
   "execution_count": 39,
   "metadata": {},
   "outputs": [],
   "source": [
    "kernel = cv2.getStructuringElement(cv2.MORPH_RECT,(20,20))\n",
    "img_dilate = cv2.dilate(img_D, kernel, iterations=1)\n",
    "img_erode = cv2.erode(img_dilate, kernel, iterations=1)\n",
    "img_open = cv2.morphologyEx(img_D, cv2.MORPH_OPEN, kernel)\n",
    "img_close = cv2.morphologyEx(img_D, cv2.MORPH_CLOSE, kernel)\n",
    "img_gradient = cv2.morphologyEx(img_D, cv2.MORPH_GRADIENT, kernel)\n",
    "img_tophat = cv2.morphologyEx(img_D, cv2.MORPH_TOPHAT, kernel)\n",
    "img_blackhat = cv2.morphologyEx(img_D, cv2.MORPH_BLACKHAT, kernel)\n",
    "\n",
    "cv2.imshow('B7', img_blackhat)\n",
    "cv2.waitKey(0)\n",
    "cv2.destroyAllWindows()"
   ]
  },
  {
   "cell_type": "markdown",
   "metadata": {},
   "source": [
    "## Result\n",
    "\n",
    "According to the result, We can find that use the method getStructuringElement in OpenCV, manipulate images according to their shapes. A structuring element is added by morphological processes to an input image to produce an output image of the same size. When performing a morphological operation, each output pixel’s value is determined by comparing it to its neighbors in the input image."
   ]
  },
  {
   "cell_type": "markdown",
   "metadata": {},
   "source": [
    "## Reference\n",
    "\n",
    "1. https://docs.opencv.org/4.x/dd/dd7/tutorial_morph_lines_detection.html\n",
    "\n",
    "2. https://blog.csdn.net/weixin_42512684/article/details/111087122\n",
    "\n",
    "3. https://stackoverflow.com/questions/67117928/how-to-decide-on-the-kernel-to-use-for-dilations-opencv-python"
   ]
  }
 ],
 "metadata": {
  "kernelspec": {
   "display_name": "base",
   "language": "python",
   "name": "python3"
  },
  "language_info": {
   "codemirror_mode": {
    "name": "ipython",
    "version": 3
   },
   "file_extension": ".py",
   "mimetype": "text/x-python",
   "name": "python",
   "nbconvert_exporter": "python",
   "pygments_lexer": "ipython3",
   "version": "3.9.18"
  }
 },
 "nbformat": 4,
 "nbformat_minor": 2
}
