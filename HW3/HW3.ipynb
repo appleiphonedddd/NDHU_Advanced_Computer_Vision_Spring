{
 "cells": [
  {
   "cell_type": "markdown",
   "metadata": {},
   "source": [
    "## Practice\n",
    "1. Perform <b>Temporal Subtraction</b>. i.e., <i>abs(I(t)-I(t-1))</i> where <i>I(t)</i> is the captured image at time instant <i>t</i>.\n",
    "2. Perform <b>Background Subtraction</b>. i.e., <i>abs(I(t)-I(0))</i> where <i>I(0)</i> is the first captured image after your program starts the execution.\n",
    "3. Show the background image and both subtracted images.\n",
    "4. Compare the differences. What is the pros and cons of these two methods?"
   ]
  },
  {
   "cell_type": "code",
   "execution_count": 1,
   "metadata": {},
   "outputs": [],
   "source": [
    "import cv2"
   ]
  },
  {
   "cell_type": "code",
   "execution_count": 9,
   "metadata": {},
   "outputs": [],
   "source": [
    "cap = cv2.VideoCapture(0)\n",
    "\n",
    "# Check if the webcam is opened correctly\n",
    "if not cap.isOpened():\n",
    "    raise IOError(\"Cannot open webcam\")\n",
    "  \n",
    "current_frame, prev_frame = None, None\n",
    "ret, frame = cap.read()\n",
    "current_frame = cv2.resize(frame, None, fx=0.5, fy=0.5, interpolation=cv2.INTER_LINEAR)\n",
    "first_frame = current_frame\n",
    "\n",
    "while True:\n",
    "    ret, frame = cap.read()\n",
    "    prev_frame = current_frame\n",
    "    current_frame = cv2.resize(frame, None, fx=0.5, fy=0.5, interpolation=cv2.INTER_LINEAR)\n",
    "    \n",
    "    if prev_frame is not None:\n",
    "        # Calculate Temporal Subtraction\n",
    "        sub_frame = cv2.absdiff(current_frame , prev_frame)\n",
    "\n",
    "        # Calculate Background_frame\n",
    "        Background_frame = cv2.absdiff(current_frame , first_frame)\n",
    "\n",
    "        cv2.imshow('Temporal Subtraction', sub_frame)\n",
    "        cv2.imshow('Background', Background_frame)\n",
    "    c = cv2.waitKey(1)\n",
    "\n",
    "    if cv2.waitKey(1) == ord('q'):\n",
    "        break\n",
    "cap.release()\n",
    "cv2.destroyAllWindows()"
   ]
  },
  {
   "cell_type": "markdown",
   "metadata": {},
   "source": [
    "### Compare the differences. What is the pros and cons of these two methods?\n",
    "\n",
    "In Computer Vision, If we use Temporal Subtraction method, We just detect the object trace, but the picture quality is very blurry, If we use Background method, the picture quality is very clear, However, it is impossible to describe the object as a whole because it is interfered by the background.\n",
    "\n"
   ]
  }
 ],
 "metadata": {
  "kernelspec": {
   "display_name": "base",
   "language": "python",
   "name": "python3"
  },
  "language_info": {
   "codemirror_mode": {
    "name": "ipython",
    "version": 3
   },
   "file_extension": ".py",
   "mimetype": "text/x-python",
   "name": "python",
   "nbconvert_exporter": "python",
   "pygments_lexer": "ipython3",
   "version": "3.8.18"
  }
 },
 "nbformat": 4,
 "nbformat_minor": 2
}
