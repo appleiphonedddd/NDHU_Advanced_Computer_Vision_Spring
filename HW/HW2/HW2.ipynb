{
 "cells": [
  {
   "cell_type": "markdown",
   "metadata": {},
   "source": [
    "## Homework 2\n",
    "1. Input image from eos_map_x.png.\n",
    "2. Try to detect the location of the <b>player</b> (in cyan color), and the location of the nearest <b>shrine</b> (in red color). (hint: use <i>inRange()</i>)\n",
    "3. Try to detect the facing direction of the <b>player</b>. (hint: possibly use <i>morphologyEx()</i>, or <i>findContours(), minEnclosingTriangle()</i> to determine the player axis)\n",
    "4. Draw a yellow line indicating the facing direction of the <b>player</b>.\n",
    "5. Draw a yellow line from the <b>player</b> to the <b>shrine</b>.\n",
    "4. Compute the required <b>rotating angle</b> so the player is facing to the shrine. \n",
    "(positive angle means clockwise rotation, negative angle means counterclockwise rotaion) (hint: use <i>atan2()</i>)\n",
    "5. Print the rotating angle on top-left corner of the output images. (in degree, not radian)\n",
    "6. Write a simple report in a separate cell.\n",
    "7. Upload your Jupyter code file (*.ipynb)"
   ]
  },
  {
   "cell_type": "code",
   "execution_count": 47,
   "metadata": {},
   "outputs": [],
   "source": [
    "import cv2\n",
    "import numpy as np"
   ]
  },
  {
   "cell_type": "code",
   "execution_count": 48,
   "metadata": {},
   "outputs": [
    {
     "name": "stdout",
     "output_type": "stream",
     "text": [
      "Image loaded successfully.\n"
     ]
    }
   ],
   "source": [
    "image = cv2.imread('eos_map_0.png')\n",
    "\n",
    "if image is None:\n",
    "    print(\"Error: Unable to load image.\")\n",
    "else:\n",
    "    print(\"Image loaded successfully.\")"
   ]
  },
  {
   "cell_type": "code",
   "execution_count": 49,
   "metadata": {},
   "outputs": [],
   "source": [
    "# Define the range of red and blue in HSV\n",
    "lower_red = np.array([0, 100, 100])\n",
    "upper_red = np.array([0, 255, 255])\n",
    "lower_blue = np.array([90, 100, 100])\n",
    "upper_blue  = np.array([120, 255, 255])\n",
    "\n",
    "# Convert the image to HSV\n",
    "hsv = cv2.cvtColor(image, cv2.COLOR_BGR2HSV)\n",
    "red_mask = cv2.inRange(hsv, lower_red, upper_red)\n",
    "blue_mask = cv2.inRange(hsv, lower_blue, upper_blue)\n",
    "\n",
    "\n",
    "# Apply the mask to the image\n",
    "red_masked_image = cv2.bitwise_and(image, image, mask=red_mask)\n",
    "blue_masked_image = cv2.bitwise_and(image, image, mask=blue_mask)\n",
    "\n",
    "cv2.imshow('HSV Picture', hsv)\n",
    "cv2.imshow('Original Image', image)\n",
    "cv2.imshow('Red Mask', red_mask)\n",
    "cv2.imshow('Red Masked Image', red_masked_image)\n",
    "cv2.imshow('Blue Mask', blue_mask)\n",
    "cv2.imshow('Blue Masked Image', blue_masked_image)\n",
    "cv2.waitKey()\n",
    "cv2.destroyAllWindows()"
   ]
  },
  {
   "cell_type": "code",
   "execution_count": 50,
   "metadata": {},
   "outputs": [],
   "source": [
    "kernel = np.ones((5,5), np.uint8)\n",
    "red_mask = cv2.morphologyEx(red_mask, cv2.MORPH_CLOSE, kernel)\n",
    "blue_mask = cv2.morphologyEx(blue_mask, cv2.MORPH_CLOSE, kernel)"
   ]
  },
  {
   "cell_type": "code",
   "execution_count": 51,
   "metadata": {},
   "outputs": [
    {
     "name": "stdout",
     "output_type": "stream",
     "text": [
      "Center point 1: (83, 201), Area: 123.0\n",
      "Center point 2: (117, 86), Area: 129.5\n",
      "Max Red Area: 129.5\n"
     ]
    }
   ],
   "source": [
    "red_contours, _ = cv2.findContours(red_mask, cv2.RETR_TREE, cv2.CHAIN_APPROX_SIMPLE)\n",
    "red_center = []\n",
    "red_areas = []\n",
    "\n",
    "threshold_area = 100\n",
    "\n",
    "for contour in red_contours:\n",
    "\n",
    "    area = cv2.contourArea(contour)\n",
    "\n",
    "    if area > threshold_area:\n",
    "\n",
    "        moments = cv2.moments(contour)\n",
    "        if moments[\"m00\"] != 0:\n",
    "            cx = int(moments[\"m10\"] / moments[\"m00\"])\n",
    "            cy = int(moments[\"m01\"] / moments[\"m00\"])\n",
    "            red_center.append((cx, cy))  \n",
    "            red_areas.append(area)       \n",
    "max_red_area = max(red_areas)\n",
    "\n",
    "for i, center in enumerate(red_center):\n",
    "    print(f\"Center point {i+1}: {center}, Area: {red_areas[i]}\")\n",
    "\n",
    "print(\"Max Red Area:\", max_red_area)"
   ]
  },
  {
   "cell_type": "markdown",
   "metadata": {},
   "source": []
  },
  {
   "cell_type": "code",
   "execution_count": 52,
   "metadata": {},
   "outputs": [
    {
     "name": "stdout",
     "output_type": "stream",
     "text": [
      "Center point 1: (114, 115), Area: 41.0\n",
      "Max Blue Area: 41.0\n"
     ]
    }
   ],
   "source": [
    "blue_contours, _ = cv2.findContours(blue_mask, cv2.RETR_EXTERNAL, cv2.CHAIN_APPROX_SIMPLE)\n",
    "blue_centers      = []  \n",
    "blue_areas        = []\n",
    "\n",
    "blue_threshold_area = 40\n",
    "\n",
    "for contour in blue_contours:\n",
    "    area = cv2.contourArea(contour)  # Calculate the area of the contour\n",
    "    if area > blue_threshold_area:\n",
    "        # If the area is greater than the threshold, calculate the center point\n",
    "        moments = cv2.moments(contour)\n",
    "        if moments[\"m00\"] != 0:  # Ensure the area is not zero to avoid division by zero\n",
    "            cx = int(moments[\"m10\"] / moments[\"m00\"])  # x-coordinate of centroid\n",
    "            cy = int(moments[\"m01\"] / moments[\"m00\"])  # y-coordinate of centroid\n",
    "            blue_centers.append((cx, cy))  # Append the center point to blue_center list\n",
    "            blue_areas.append(area)       # Append the area to blue_areas list\n",
    "\n",
    "# Find the largest blue area\n",
    "max_blue_area = max(blue_areas)\n",
    "\n",
    "# Print the center points and areas of blue regions\n",
    "for i, center in enumerate(blue_centers):\n",
    "    print(f\"Center point {i+1}: {center}, Area: {blue_areas[i]}\")\n",
    "\n",
    "print(\"Max Blue Area:\", max_blue_area)"
   ]
  },
  {
   "cell_type": "code",
   "execution_count": 53,
   "metadata": {},
   "outputs": [],
   "source": [
    "if red_center and blue_centers:\n",
    "    \n",
    "    min_dist = float('inf')\n",
    "    closest_red  = None\n",
    "    closest_blue = None\n",
    "    \n",
    "    for red_center in red_center:\n",
    "        for blue_center in blue_centers:\n",
    "            dist = np.linalg.norm(np.array(blue_center) - np.array(red_center)) # 计算向量长度\n",
    "        \n",
    "            if dist < min_dist:\n",
    "                min_dist = dist\n",
    "                closest_red  = red_center \n",
    "                closest_blue = blue_center \n",
    "\n",
    "    closest_red  = tuple(closest_red)\n",
    "    closest_blue = tuple(closest_blue)\n",
    "\n",
    "    img_with_line = cv2.line(image.copy(), closest_red, closest_blue, (0, 255, 255),2)"
   ]
  },
  {
   "cell_type": "code",
   "execution_count": 67,
   "metadata": {},
   "outputs": [],
   "source": [
    "epsilon = 0.1 * cv2.arcLength(blue_contours[0], True)\n",
    "approx = cv2.approxPolyDP(blue_contours[0], epsilon, True)\n",
    "\n",
    "hull = cv2.convexHull(approx)\n",
    "\n",
    "hull_points = [tuple(point[0]) for point in hull]\n",
    "\n",
    "side_length_ab =  ((hull_points[0][0] - hull_points[1][0])** 2 + (hull_points[0][1] - hull_points[1][1])** 2 ) ** 0.5\n",
    "side_length_ac =  ((hull_points[0][0] - hull_points[2][0])** 2 + (hull_points[0][1] - hull_points[2][1])** 2 ) ** 0.5\n",
    "side_length_bc =  ((hull_points[1][0] - hull_points[2][0])** 2 + (hull_points[1][1] - hull_points[2][1])** 2 ) ** 0.5\n",
    "\n",
    "\n",
    "max_side_length = max(side_length_ab + side_length_ac , side_length_bc + side_length_ac, side_length_ab + side_length_bc)\n",
    "\n",
    "if max_side_length == side_length_ab + side_length_ac: #a\n",
    "    intersection = hull_points[0]\n",
    "    \n",
    "if max_side_length == side_length_ab + side_length_bc: #b\n",
    "    intersection = hull_points[1]\n",
    "    \n",
    "if max_side_length == side_length_ac + side_length_bc: #c\n",
    "    intersection = hull_points[2]\n",
    "\n",
    "centroid_to_intersection_vector = np.array([intersection[0] - cx, intersection[1] - cy])\n",
    "\n",
    "extended_point = (int(cx + 3 * centroid_to_intersection_vector[0]), int(cy + 3 * centroid_to_intersection_vector[1]))\n",
    "\n",
    "img_with_yellow_lines = cv2.line(image.copy(), (cx, cy), intersection, (0, 255, 255), 2)\n",
    "\n",
    "vec_red = np.array(red_center) - np.array(blue_center)\n",
    "\n",
    "img_with_yellow_lines = cv2.resize(img_with_yellow_lines, None, fx=1, fy=1)\n",
    "cv2.imshow('Image Yellow Lines and Intersection Point', img_with_yellow_lines)\n",
    "\n",
    "img_with_line = cv2.resize(img_with_line, None, fx=3, fy=3)\n",
    "cv2.imshow('Image with Line', img_with_line)\n",
    "\n",
    "cv2.waitKey(0)\n",
    "cv2.destroyAllWindows()"
   ]
  },
  {
   "cell_type": "markdown",
   "metadata": {},
   "source": [
    "## Report"
   ]
  }
 ],
 "metadata": {
  "kernelspec": {
   "display_name": "computervision",
   "language": "python",
   "name": "python3"
  },
  "language_info": {
   "codemirror_mode": {
    "name": "ipython",
    "version": 3
   },
   "file_extension": ".py",
   "mimetype": "text/x-python",
   "name": "python",
   "nbconvert_exporter": "python",
   "pygments_lexer": "ipython3",
   "version": "3.9.18"
  }
 },
 "nbformat": 4,
 "nbformat_minor": 2
}
