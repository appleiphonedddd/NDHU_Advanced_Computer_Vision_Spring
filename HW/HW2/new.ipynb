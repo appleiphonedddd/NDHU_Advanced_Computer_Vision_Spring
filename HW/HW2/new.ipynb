{
 "cells": [
  {
   "cell_type": "code",
   "execution_count": 1,
   "metadata": {},
   "outputs": [],
   "source": [
    "import cv2\n",
    "import numpy as np"
   ]
  },
  {
   "cell_type": "code",
   "execution_count": 3,
   "metadata": {},
   "outputs": [],
   "source": [
    "def find_max_area(contours):\n",
    "    areas = [cv2.contourArea(contour) for contour in contours]\n",
    "    if areas:\n",
    "        return max(areas)\n",
    "    else:\n",
    "        return 0"
   ]
  },
  {
   "cell_type": "code",
   "execution_count": 4,
   "metadata": {},
   "outputs": [],
   "source": [
    "def find_centers_and_areas(contours, min_area_threshold):\n",
    "    centers = []\n",
    "    areas = []\n",
    "    for contour in contours:\n",
    "        area = cv2.contourArea(contour)\n",
    "        areas.append(area)\n",
    "        if area > min_area_threshold:\n",
    "            M = cv2.moments(contour)\n",
    "            if M[\"m00\"] != 0:\n",
    "                cX = int(M[\"m10\"] / M[\"m00\"])\n",
    "                cY = int(M[\"m01\"] / M[\"m00\"])\n",
    "                centers.append((cX, cY))\n",
    "    return centers, areas"
   ]
  },
  {
   "cell_type": "code",
   "execution_count": 5,
   "metadata": {},
   "outputs": [],
   "source": [
    "def find_closest_points(centers1, centers2):\n",
    "    min_dist = float('inf')\n",
    "    closest_point1 = None\n",
    "    closest_point2 = None\n",
    "    for center1 in centers1:\n",
    "        for center2 in centers2:\n",
    "            dist = np.linalg.norm(np.array(center1) - np.array(center2))\n",
    "            if dist < min_dist:\n",
    "                min_dist = dist\n",
    "                closest_point1 = center1\n",
    "                closest_point2 = center2\n",
    "    return closest_point1, closest_point2"
   ]
  },
  {
   "cell_type": "code",
   "execution_count": null,
   "metadata": {},
   "outputs": [],
   "source": [
    "# 读取图像\n",
    "img = cv2.imread('eos_map_0.png')\n",
    "img_hsv = cv2.cvtColor(img, cv2.COLOR_BGR2HSV)"
   ]
  }
 ],
 "metadata": {
  "kernelspec": {
   "display_name": "computervision",
   "language": "python",
   "name": "python3"
  },
  "language_info": {
   "codemirror_mode": {
    "name": "ipython",
    "version": 3
   },
   "file_extension": ".py",
   "mimetype": "text/x-python",
   "name": "python",
   "nbconvert_exporter": "python",
   "pygments_lexer": "ipython3",
   "version": "3.9.18"
  }
 },
 "nbformat": 4,
 "nbformat_minor": 2
}
