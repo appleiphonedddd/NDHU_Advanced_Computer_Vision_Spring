{
 "cells": [
  {
   "cell_type": "markdown",
   "metadata": {},
   "source": [
    "## Homework 3\n",
    "1. Input BGR images from webcam.\n",
    "2. Detect your face, mouth, and eyes. \n",
    "3. Input BGRA images from files \"mustache.png\" and \"hat.png\" (hint: cv2.imread(\"mustache.png\", cv2.IMREAD_UNCHANGED) to read 4 channels)\n",
    "4. Perform <b> Alpha Blending </b> to add mustache and hat on the right position and orientation of your face.\n",
    "5. The overlaid mustache and hat should be translated, rotated , and scaled according to the movement of your face. \n",
    "6. Show your output images.\n",
    "7. Any idea on how to detect face features better? Try it and compare the results. (hint: modules of <i>dlib</i> or <i>mediapipe</i>)\n",
    "8. (5pts bonus) Open/Close your mouth to toggle mustache on/off.\n",
    "9. (5pts bonus) Blink your eye to toggle hat on/off.\n",
    "10. Upload your Jupyter code file (*.ipynb)"
   ]
  },
  {
   "cell_type": "code",
   "execution_count": null,
   "metadata": {},
   "outputs": [],
   "source": []
  }
 ],
 "metadata": {
  "language_info": {
   "name": "python"
  }
 },
 "nbformat": 4,
 "nbformat_minor": 2
}
